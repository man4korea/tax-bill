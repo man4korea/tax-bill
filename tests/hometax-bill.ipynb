{
 "cells": [
  {
   "cell_type": "code",
   "execution_count": null,
   "id": "rsbmighz3mj",
   "metadata": {},
   "outputs": [],
   "source": [
    "# Selenium으로 홈택스 사이트 열기\n",
    "from selenium import webdriver\n",
    "from selenium.webdriver.chrome.service import Service\n",
    "from webdriver_manager.chrome import ChromeDriverManager\n",
    "\n",
    "# ChromeDriver 자동 설정\n",
    "service = Service(ChromeDriverManager().install())\n",
    "driver = webdriver.Chrome(service=service)\n",
    "\n",
    "# 홈택스 사이트 열기\n",
    "url = \"https://hometax.go.kr/websquare/websquare.html?w2xPath=/ui/pp/index_pp.xml&menuCd=index3\"\n",
    "driver.get(url)"
   ]
  },
  {
   "cell_type": "code",
   "execution_count": null,
   "id": "choice-dialog",
   "metadata": {},
   "outputs": [],
   "source": [
    "# 로그인 방식 선택 (텍스트 기반)\n",
    "login_method_choice = \"\"\n",
    "while login_method_choice not in [\'1\', \'2\']:\n",
    "    login_method_choice = input(\"로그인 방식을 선택하세요 (1: 자동, 2: 수동): \")\n",
    "\n",
    "if login_method_choice == \'1\':\n",
    "    login_method = \'auto\'\n",
    "    print(\"자동 로그인을 선택했습니다.\")\n",
    "else:\n",
    "    login_method = \'manual\'\n",
    "    print(\"수동 로그인을 선택했습니다.\")"
   ]
  },
  {
   "cell_type": "code",
   "execution_count": null,
   "id": "tu0v3gh1w6j",
   "metadata": {},
   "outputs": [],
   "source": [
    "# 요소 클릭\n",
    "from selenium.webdriver.common.by import By\n",
    "from selenium.webdriver.support.ui import WebDriverWait\n",
    "from selenium.webdriver.support import expected_conditions as EC\n",
    "\n",
    "# 요소가 클릭 가능할 때까지 대기 후 클릭\n",
    "element = WebDriverWait(driver, 10).until(\n",
    "    EC.element_to_be_clickable((By.ID, \"mf_txppWframe_loginboxFrame_anchor22\"))\n",
    ")\n",
    "element.click()"
   ]
  },
  {
   "cell_type": "code",
   "execution_count": null,
   "id": "conditional-login",
   "metadata": {},
   "outputs": [],
   "source": [
    "# 선택된 로그인 방식에 따라 분기 처리\n",
    "if login_method == \'auto\':\n",
    "    print(\"자동 로그인을 시작합니다...\")\n",
    "    try:\n",
    "        # \'dscert\' iframe으로 전환\n",
    "        WebDriverWait(driver, 10).until(\n",
    "            EC.frame_to_be_available_and_switch_to_it((By.ID, \"dscert\"))\n",
    "        )\n",
    "\n",
    "        # 암호 입력 필드가 나타날 때까지 대기\n",
    "        password_field = WebDriverWait(driver, 10).until(\n",
    "            EC.presence_of_element_located((By.ID, \"input_cert_pw\"))\n",
    "        )\n",
    "\n",
    "        # 암호 입력\n",
    "        password_field.send_keys(\"atime4us@lik\")\n",
    "\n",
    "        # 확인 버튼 클릭\n",
    "        confirm_button = WebDriverWait(driver, 10).until(\n",
    "            EC.element_to_be_clickable((By.CSS_SELECTOR, \"#btn_confirm_iframe > span\"))\n",
    "        )\n",
    "        confirm_button.click()\n",
    "        print(\"자동 로그인을 완료했습니다.\")\n",
    "    except Exception as e:\n",
    "        print(f\"자동 로그인 중 오류가 발생했습니다: {e}\")\n",
    "\n",
    "elif login_method == \'manual\':\n",
    "    print(\"수동 로그인을 진행해주세요.\")\n",
    "    input(\"인증서 로그인(암호 입력 및 확인)을 수동으로 완료한 후 Enter 키를 눌러주세요...\")\n",
    "    print(\"수동 로그인이 완료된 것으로 간주하고 다음 단계를 진행합니다.\")\n",
    "\n",
    "# 로그인 절차 완료 후, 다음 자동화를 위해 기본 컨텐츠로 복귀\n",
    "try:\n",
    "    driver.switch_to.default_content()\n",
    "    print(\"기본 컨텐츠로 전환했습니다.\")\n",
    "except Exception as e:\n",
    "    print(f\"기본 컨텐츠로 전환 중 오류가 발생했습니다: {e}\")"
   ]
  }
 ],
 "metadata": {
  "kernelspec": {
   "display_name": "Python 3",
   "language": "python",
   "name": "python3"
  },
  "language_info": {
   "codemirror_mode": {
    "name": "ipython",
    "version": 3
   },
   "file_extension": ".py",
   "mimetype": "text/x-python",
   "name": "python",
   "nbconvert_exporter": "python",
   "pygments_lexer": "ipython3",
   "version": "3.13.7"
  }
 },
 "nbformat": 4,
 "nbformat_minor": 5
}